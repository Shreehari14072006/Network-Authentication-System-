{
  "nbformat": 4,
  "nbformat_minor": 0,
  "metadata": {
    "colab": {
      "provenance": [],
      "authorship_tag": "ABX9TyNNajot/NXQVK1bK2207did",
      "include_colab_link": true
    },
    "kernelspec": {
      "name": "python3",
      "display_name": "Python 3"
    },
    "language_info": {
      "name": "python"
    }
  },
  "cells": [
    {
      "cell_type": "markdown",
      "metadata": {
        "id": "view-in-github",
        "colab_type": "text"
      },
      "source": [
        "<a href=\"https://colab.research.google.com/github/Shreehari14072006/Network-Authentication-System-/blob/main/PROJECT_NETWORK_AUTHENTICATION_SYSTEM.ipynb\" target=\"_parent\"><img src=\"https://colab.research.google.com/assets/colab-badge.svg\" alt=\"Open In Colab\"/></a>"
      ]
    },
    {
      "cell_type": "code",
      "execution_count": null,
      "metadata": {
        "colab": {
          "base_uri": "https://localhost:8080/"
        },
        "id": "d-9HGjkHlIpH",
        "outputId": "f2c39b5b-d611-4828-e4db-a95a16623cb6"
      },
      "outputs": [
        {
          "output_type": "stream",
          "name": "stdout",
          "text": [
            "     NETWORK AUTHENTICATION SYSTEM\n",
            "Create your username:4VC\n",
            "Create a strong password: Qwerty456@@zxc \n",
            "Create an IP address (format: x.x.x.x where 0 <= x <= 255): 55.67.78.6\n",
            "Registered Successfully!\n",
            "\n",
            "Enter your username: 4VC\n",
            "Enter your password: Qwerty456@@zxc \n",
            "Enter your IP address: 55.67.78.6\n",
            "     Access granted.    \n"
          ]
        }
      ],
      "source": [
        "print(\"     NETWORK AUTHENTICATION SYSTEM\")\n",
        "username = input(\"Create your username:\")\n",
        "\n",
        "def password_requirements(password):\n",
        "    special_characters = \"!@#$%^&*()_+{}[]:;'<>,.?/~`-=\"\n",
        "    while True:\n",
        "        if len(password) < 8:\n",
        "            print(\"Password must contain at least 8 characters.\")\n",
        "        elif not any(c.isupper() for c in password):\n",
        "            print(\"Password must contain at least one uppercase letter.\")\n",
        "        elif not any(c.islower() for c in password):\n",
        "            print(\"Password must contain at least one lowercase letter.\")\n",
        "        elif not any(c.isdigit() for c in password):\n",
        "            print(\"Password must contain at least one digit.\")\n",
        "        elif not any(c in special_characters for c in password):\n",
        "            print(\"Password must contain at least one special character.\")\n",
        "        else:\n",
        "            break\n",
        "        password = input(\"Create a your password: \")\n",
        "    return password\n",
        "\n",
        "password = input(\"Create a strong password: \")\n",
        "password_requirements(password)\n",
        "\n",
        "def ip_requirements(IP):\n",
        "    while True:\n",
        "        try:\n",
        "            parts = IP.split(\".\")\n",
        "            if len(parts) != 4:\n",
        "                raise ValueError\n",
        "            for part in parts:\n",
        "                num = int(part)\n",
        "                if not (0 <= num <= 255):\n",
        "                    raise ValueError\n",
        "            break\n",
        "        except ValueError:\n",
        "            IP = input(\"Your IP should be in format x.x.x.x (0–255). Try again: \")\n",
        "    return IP\n",
        "\n",
        "IP_ADDRESS = input(\"Create an IP address (format: x.x.x.x where 0 <= x <= 255): \")\n",
        "ip_requirements(IP_ADDRESS)\n",
        "\n",
        "\n",
        "print(\"Registered Successfully!\\n\")\n",
        "\n",
        "\n",
        "def check_username(username):\n",
        "    while True:\n",
        "        u = input(\"Enter your username: \")\n",
        "        if u == username:\n",
        "           break\n",
        "        print(\"Wrong username. Try again.\")\n",
        "\n",
        "def check_password(password):\n",
        "    while True:\n",
        "        p = input(\"Enter your password: \")\n",
        "        if p == password:\n",
        "            break\n",
        "        print(\"Wrong password. Try again.\")\n",
        "\n",
        "def check_ip(IP_ADDRESS):\n",
        "    while True:\n",
        "        IP= input(\"Enter your IP address: \")\n",
        "        if IP_ADDRESS== IP:\n",
        "            break\n",
        "        print(\"Wrong IP address. Try again.\")\n",
        "\n",
        "check_username(username)\n",
        "check_password(password)\n",
        "check_ip(IP_ADDRESS)\n",
        "\n",
        "print(\"     Access granted.    \")"
      ]
    }
  ]
}